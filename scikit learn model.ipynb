{
 "cells": [
  {
   "cell_type": "code",
   "execution_count": 1,
   "id": "5b6e88ae",
   "metadata": {},
   "outputs": [],
   "source": [
    "import pandas as pd\n",
    "import numpy as np\n",
    "import matplotlib.pyplot as plt\n",
    "from sklearn.model_selection import train_test_split\n",
    "from sklearn.linear_model import LinearRegression"
   ]
  },
  {
   "cell_type": "code",
   "execution_count": 2,
   "id": "542b2ec1",
   "metadata": {},
   "outputs": [],
   "source": [
    "data = pd.read_csv('Student_Performance.csv')"
   ]
  },
  {
   "cell_type": "code",
   "execution_count": 3,
   "id": "069feaec",
   "metadata": {},
   "outputs": [
    {
     "data": {
      "text/html": [
       "<div>\n",
       "<style scoped>\n",
       "    .dataframe tbody tr th:only-of-type {\n",
       "        vertical-align: middle;\n",
       "    }\n",
       "\n",
       "    .dataframe tbody tr th {\n",
       "        vertical-align: top;\n",
       "    }\n",
       "\n",
       "    .dataframe thead th {\n",
       "        text-align: right;\n",
       "    }\n",
       "</style>\n",
       "<table border=\"1\" class=\"dataframe\">\n",
       "  <thead>\n",
       "    <tr style=\"text-align: right;\">\n",
       "      <th></th>\n",
       "      <th>Hours Studied</th>\n",
       "      <th>Previous Scores</th>\n",
       "      <th>Extracurricular Activities</th>\n",
       "      <th>Sleep Hours</th>\n",
       "      <th>Sample Question Papers Practiced</th>\n",
       "      <th>Performance Index</th>\n",
       "    </tr>\n",
       "  </thead>\n",
       "  <tbody>\n",
       "    <tr>\n",
       "      <th>0</th>\n",
       "      <td>7</td>\n",
       "      <td>99</td>\n",
       "      <td>Yes</td>\n",
       "      <td>9</td>\n",
       "      <td>1</td>\n",
       "      <td>91.0</td>\n",
       "    </tr>\n",
       "    <tr>\n",
       "      <th>1</th>\n",
       "      <td>4</td>\n",
       "      <td>82</td>\n",
       "      <td>No</td>\n",
       "      <td>4</td>\n",
       "      <td>2</td>\n",
       "      <td>65.0</td>\n",
       "    </tr>\n",
       "    <tr>\n",
       "      <th>2</th>\n",
       "      <td>8</td>\n",
       "      <td>51</td>\n",
       "      <td>Yes</td>\n",
       "      <td>7</td>\n",
       "      <td>2</td>\n",
       "      <td>45.0</td>\n",
       "    </tr>\n",
       "    <tr>\n",
       "      <th>3</th>\n",
       "      <td>5</td>\n",
       "      <td>52</td>\n",
       "      <td>Yes</td>\n",
       "      <td>5</td>\n",
       "      <td>2</td>\n",
       "      <td>36.0</td>\n",
       "    </tr>\n",
       "    <tr>\n",
       "      <th>4</th>\n",
       "      <td>7</td>\n",
       "      <td>75</td>\n",
       "      <td>No</td>\n",
       "      <td>8</td>\n",
       "      <td>5</td>\n",
       "      <td>66.0</td>\n",
       "    </tr>\n",
       "  </tbody>\n",
       "</table>\n",
       "</div>"
      ],
      "text/plain": [
       "   Hours Studied  Previous Scores Extracurricular Activities  Sleep Hours  \\\n",
       "0              7               99                        Yes            9   \n",
       "1              4               82                         No            4   \n",
       "2              8               51                        Yes            7   \n",
       "3              5               52                        Yes            5   \n",
       "4              7               75                         No            8   \n",
       "\n",
       "   Sample Question Papers Practiced  Performance Index  \n",
       "0                                 1               91.0  \n",
       "1                                 2               65.0  \n",
       "2                                 2               45.0  \n",
       "3                                 2               36.0  \n",
       "4                                 5               66.0  "
      ]
     },
     "execution_count": 3,
     "metadata": {},
     "output_type": "execute_result"
    }
   ],
   "source": [
    "data.head()"
   ]
  },
  {
   "cell_type": "code",
   "execution_count": 4,
   "id": "a7289698",
   "metadata": {},
   "outputs": [
    {
     "name": "stdout",
     "output_type": "stream",
     "text": [
      "                                  Hours Studied  Previous Scores  Sleep Hours  \\\n",
      "Hours Studied                          1.000000        -0.012390     0.001245   \n",
      "Previous Scores                       -0.012390         1.000000     0.005944   \n",
      "Sleep Hours                            0.001245         0.005944     1.000000   \n",
      "Sample Question Papers Practiced       0.017463         0.007888     0.003990   \n",
      "Performance Index                      0.373730         0.915189     0.048106   \n",
      "\n",
      "                                  Sample Question Papers Practiced  \\\n",
      "Hours Studied                                             0.017463   \n",
      "Previous Scores                                           0.007888   \n",
      "Sleep Hours                                               0.003990   \n",
      "Sample Question Papers Practiced                          1.000000   \n",
      "Performance Index                                         0.043268   \n",
      "\n",
      "                                  Performance Index  \n",
      "Hours Studied                              0.373730  \n",
      "Previous Scores                            0.915189  \n",
      "Sleep Hours                                0.048106  \n",
      "Sample Question Papers Practiced           0.043268  \n",
      "Performance Index                          1.000000  \n"
     ]
    }
   ],
   "source": [
    "data = data.drop(['Extracurricular Activities'],axis = 1)\n",
    "\n",
    "print(data.corr())"
   ]
  },
  {
   "cell_type": "code",
   "execution_count": 5,
   "id": "ef6df8fc",
   "metadata": {},
   "outputs": [],
   "source": [
    "y = data['Performance Index']\n",
    "x = data.drop(columns = ['Performance Index'])"
   ]
  },
  {
   "cell_type": "code",
   "execution_count": 6,
   "id": "d38b803e",
   "metadata": {},
   "outputs": [
    {
     "name": "stdout",
     "output_type": "stream",
     "text": [
      "datatype of x is <class 'pandas.core.frame.DataFrame'> \n",
      "datatype of y is <class 'pandas.core.series.Series'>\n"
     ]
    }
   ],
   "source": [
    "print(f'datatype of x is {type(x)} \\ndatatype of y is {type(y)}')"
   ]
  },
  {
   "cell_type": "code",
   "execution_count": 7,
   "id": "6b134aed",
   "metadata": {},
   "outputs": [],
   "source": [
    "x_train, x_test, y_train, y_test = train_test_split(x,y,test_size = 0.1)"
   ]
  },
  {
   "cell_type": "code",
   "execution_count": 8,
   "id": "d68fbc57",
   "metadata": {},
   "outputs": [
    {
     "name": "stdout",
     "output_type": "stream",
     "text": [
      "-33.7561674943518 [2.85215046 1.01874826 0.47476009 0.19243687]\n"
     ]
    }
   ],
   "source": [
    "model = LinearRegression()\n",
    "model.fit(x_train,y_train)\n",
    "print(model.intercept_, model.coef_)"
   ]
  },
  {
   "cell_type": "code",
   "execution_count": 9,
   "id": "dde3e1b8",
   "metadata": {},
   "outputs": [
    {
     "name": "stdout",
     "output_type": "stream",
     "text": [
      "<class 'numpy.ndarray'> <class 'pandas.core.series.Series'>\n",
      "1000\n"
     ]
    }
   ],
   "source": [
    "y_pred = model.predict(x_test)\n",
    "print (type(y_pred),type(y_test))\n",
    "print(len(y_pred))"
   ]
  },
  {
   "cell_type": "code",
   "execution_count": 10,
   "id": "380a3605",
   "metadata": {},
   "outputs": [
    {
     "name": "stdout",
     "output_type": "stream",
     "text": [
      "model has predicted 29.220205622052013 for actual value 30.0\n",
      "model has predicted 63.77676106057366 for actual value 64.0\n",
      "model has predicted 22.50716393875227 for actual value 24.0\n",
      "model has predicted 71.03479759342386 for actual value 72.0\n",
      "model has predicted 50.5339668620572 for actual value 50.0\n",
      "model has predicted 38.26314799631491 for actual value 36.0\n",
      "model has predicted 37.54197032017936 for actual value 38.0\n",
      "model has predicted 31.979739620511182 for actual value 29.0\n",
      "model has predicted 29.51253634181016 for actual value 35.0\n",
      "model has predicted 32.29897517101783 for actual value 33.0\n"
     ]
    }
   ],
   "source": [
    "for i in range (0,len(y_pred),100):\n",
    "    \n",
    "    print (f'model has predicted {y_pred[i]} for actual value {y_test.iloc[i]}')\n",
    "    \n",
    "    "
   ]
  },
  {
   "cell_type": "code",
   "execution_count": null,
   "id": "fd6146cc",
   "metadata": {},
   "outputs": [],
   "source": []
  },
  {
   "cell_type": "code",
   "execution_count": null,
   "id": "e7d615a1",
   "metadata": {},
   "outputs": [],
   "source": []
  }
 ],
 "metadata": {
  "kernelspec": {
   "display_name": "Python 3 (ipykernel)",
   "language": "python",
   "name": "python3"
  },
  "language_info": {
   "codemirror_mode": {
    "name": "ipython",
    "version": 3
   },
   "file_extension": ".py",
   "mimetype": "text/x-python",
   "name": "python",
   "nbconvert_exporter": "python",
   "pygments_lexer": "ipython3",
   "version": "3.11.5"
  }
 },
 "nbformat": 4,
 "nbformat_minor": 5
}
