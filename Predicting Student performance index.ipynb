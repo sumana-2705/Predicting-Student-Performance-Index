{
 "cells": [
  {
   "cell_type": "markdown",
   "id": "b487bb33",
   "metadata": {},
   "source": [
    "# Predicting Student Performance\n"
   ]
  },
  {
   "cell_type": "code",
   "execution_count": 1,
   "id": "6a70baa9",
   "metadata": {},
   "outputs": [],
   "source": [
    "import numpy as np\n",
    "import pandas as pd\n",
    "import matplotlib.pyplot as plt\n",
    "import math,copy\n",
    "%matplotlib inline"
   ]
  },
  {
   "cell_type": "markdown",
   "id": "a182ebfd",
   "metadata": {},
   "source": [
    "## Problem Statement\n",
    "\n",
    "**Objective**: Develop a Multiple Regression model to predict Student Performance Index based on several key factors.\n",
    "\n",
    "**Features**: Hours Studied, Previous Scores, Sleep Hours, Number of practice papers practiced.\n",
    "\n",
    "**Model Development**: Employ Multiple Variable Linear Regression techniques to establish a predictive model. The model will learn the relationship between these input features and the student's performance metric.\n"
   ]
  },
  {
   "cell_type": "markdown",
   "id": "1f126b0b",
   "metadata": {},
   "source": [
    "## Preparing Data"
   ]
  },
  {
   "cell_type": "code",
   "execution_count": 2,
   "id": "9a0743fd",
   "metadata": {},
   "outputs": [],
   "source": [
    "data = pd.read_csv('Student_Performance.csv')"
   ]
  },
  {
   "cell_type": "code",
   "execution_count": 3,
   "id": "c612c2aa",
   "metadata": {},
   "outputs": [
    {
     "data": {
      "text/html": [
       "<div>\n",
       "<style scoped>\n",
       "    .dataframe tbody tr th:only-of-type {\n",
       "        vertical-align: middle;\n",
       "    }\n",
       "\n",
       "    .dataframe tbody tr th {\n",
       "        vertical-align: top;\n",
       "    }\n",
       "\n",
       "    .dataframe thead th {\n",
       "        text-align: right;\n",
       "    }\n",
       "</style>\n",
       "<table border=\"1\" class=\"dataframe\">\n",
       "  <thead>\n",
       "    <tr style=\"text-align: right;\">\n",
       "      <th></th>\n",
       "      <th>Hours Studied</th>\n",
       "      <th>Previous Scores</th>\n",
       "      <th>Extracurricular Activities</th>\n",
       "      <th>Sleep Hours</th>\n",
       "      <th>Sample Question Papers Practiced</th>\n",
       "      <th>Performance Index</th>\n",
       "    </tr>\n",
       "  </thead>\n",
       "  <tbody>\n",
       "    <tr>\n",
       "      <th>0</th>\n",
       "      <td>7</td>\n",
       "      <td>99</td>\n",
       "      <td>Yes</td>\n",
       "      <td>9</td>\n",
       "      <td>1</td>\n",
       "      <td>91.0</td>\n",
       "    </tr>\n",
       "    <tr>\n",
       "      <th>1</th>\n",
       "      <td>4</td>\n",
       "      <td>82</td>\n",
       "      <td>No</td>\n",
       "      <td>4</td>\n",
       "      <td>2</td>\n",
       "      <td>65.0</td>\n",
       "    </tr>\n",
       "    <tr>\n",
       "      <th>2</th>\n",
       "      <td>8</td>\n",
       "      <td>51</td>\n",
       "      <td>Yes</td>\n",
       "      <td>7</td>\n",
       "      <td>2</td>\n",
       "      <td>45.0</td>\n",
       "    </tr>\n",
       "    <tr>\n",
       "      <th>3</th>\n",
       "      <td>5</td>\n",
       "      <td>52</td>\n",
       "      <td>Yes</td>\n",
       "      <td>5</td>\n",
       "      <td>2</td>\n",
       "      <td>36.0</td>\n",
       "    </tr>\n",
       "    <tr>\n",
       "      <th>4</th>\n",
       "      <td>7</td>\n",
       "      <td>75</td>\n",
       "      <td>No</td>\n",
       "      <td>8</td>\n",
       "      <td>5</td>\n",
       "      <td>66.0</td>\n",
       "    </tr>\n",
       "  </tbody>\n",
       "</table>\n",
       "</div>"
      ],
      "text/plain": [
       "   Hours Studied  Previous Scores Extracurricular Activities  Sleep Hours  \\\n",
       "0              7               99                        Yes            9   \n",
       "1              4               82                         No            4   \n",
       "2              8               51                        Yes            7   \n",
       "3              5               52                        Yes            5   \n",
       "4              7               75                         No            8   \n",
       "\n",
       "   Sample Question Papers Practiced  Performance Index  \n",
       "0                                 1               91.0  \n",
       "1                                 2               65.0  \n",
       "2                                 2               45.0  \n",
       "3                                 2               36.0  \n",
       "4                                 5               66.0  "
      ]
     },
     "execution_count": 3,
     "metadata": {},
     "output_type": "execute_result"
    }
   ],
   "source": [
    "data.head()"
   ]
  },
  {
   "cell_type": "code",
   "execution_count": 4,
   "id": "ca653242",
   "metadata": {},
   "outputs": [
    {
     "name": "stdout",
     "output_type": "stream",
     "text": [
      "<class 'pandas.core.series.Series'>\n"
     ]
    }
   ],
   "source": [
    "y = data['Performance Index']\n",
    "print(type(y))"
   ]
  },
  {
   "cell_type": "code",
   "execution_count": 5,
   "id": "b63cbfb1",
   "metadata": {},
   "outputs": [
    {
     "name": "stdout",
     "output_type": "stream",
     "text": [
      "<class 'pandas.core.frame.DataFrame'>\n"
     ]
    }
   ],
   "source": [
    "x = data.drop(columns = ['Extracurricular Activities','Performance Index'])\n",
    "\n",
    "print (type (x))"
   ]
  },
  {
   "cell_type": "code",
   "execution_count": 6,
   "id": "56ba1410",
   "metadata": {},
   "outputs": [],
   "source": [
    "# converting dataframes into numpy arrays for better calculations\n",
    "x_final = x.to_numpy()\n",
    "y_final = y.to_numpy()"
   ]
  },
  {
   "cell_type": "code",
   "execution_count": 7,
   "id": "ffe4ae0d",
   "metadata": {},
   "outputs": [
    {
     "name": "stdout",
     "output_type": "stream",
     "text": [
      "Shape of x is (10000, 4) and <class 'numpy.ndarray'>\n",
      "Shape of y is (10000,) and <class 'numpy.ndarray'>\n"
     ]
    }
   ],
   "source": [
    "print (f'Shape of x is {x_final.shape} and {type(x_final)}')\n",
    "print (f'Shape of y is {y_final.shape} and {type(y_final)}')"
   ]
  },
  {
   "cell_type": "code",
   "execution_count": 8,
   "id": "a1bb9e62",
   "metadata": {},
   "outputs": [],
   "source": [
    "# Taking some random parameters to initialize the gradient descent\n",
    "w = np.array([0,0,0,0])\n",
    "b = 2"
   ]
  },
  {
   "cell_type": "markdown",
   "id": "c9942665",
   "metadata": {},
   "source": [
    "## Dividing Data (train set, cv set, test set)"
   ]
  },
  {
   "cell_type": "markdown",
   "id": "59d7a7bd",
   "metadata": {},
   "source": [
    "- Training Set - 60%\n",
    "- Cross Validation (CV) set - 20%\n",
    "- Test Set - 20%\n",
    "\n",
    "Dividing the dataset into training, validation, and test sets is essential for evaluating model performance. The training set trains the model, the validation set tunes hyperparameters to address overfitting and underfitting, and the test set provides an unbiased performance estimate on new data. This approach helps identify and reduce high bias or variance."
   ]
  },
  {
   "cell_type": "code",
   "execution_count": 9,
   "id": "7d192cfd",
   "metadata": {},
   "outputs": [],
   "source": [
    "np.random.shuffle(x_final)\n",
    "np.random.shuffle(y_final)\n",
    "\n",
    "train_ratio = 0.6\n",
    "cv_ratio = 0.2\n",
    "test_ratio = 0.2\n",
    "\n",
    "n = x.shape[0]\n",
    "n_train = int(n*train_ratio)\n",
    "n_cv = int(n*cv_ratio)\n",
    "n_test = n - n_train - n_cv\n",
    "\n",
    "\n",
    "# dividing traing data\n",
    "x_train = x_final [:n_train]\n",
    "x_cv = x_final [n_train:n_cv+n_train]\n",
    "x_test = x_final [n_cv+n_train:]\n",
    "\n",
    "# dividing target value data\n",
    "y_train = y_final [:n_train]\n",
    "y_cv = y_final [n_train:n_cv+n_train]\n",
    "y_test = y_final [n_cv+n_train: ]\n"
   ]
  },
  {
   "cell_type": "code",
   "execution_count": 10,
   "id": "de8bbeda",
   "metadata": {},
   "outputs": [
    {
     "name": "stdout",
     "output_type": "stream",
     "text": [
      "length of x_train is 6000 and length of y_train is 6000\n",
      "length of x_cv is 2000 and length of y_cv is 2000\n",
      "length of x_test is 2000 and length of y_test is 2000\n"
     ]
    }
   ],
   "source": [
    "print (f'length of x_train is {len(x_train)} and length of y_train is {len(y_train)}')\n",
    "print (f'length of x_cv is {len(x_cv)} and length of y_cv is {len(y_cv)}')\n",
    "print (f'length of x_test is {len(x_test)} and length of y_test is {len(y_test)}')"
   ]
  },
  {
   "cell_type": "markdown",
   "id": "26d38e8d",
   "metadata": {},
   "source": [
    "## Model Prediction (f_wb)\n",
    "\n",
    "The model's prediction with multiple variables is given by the linear model:\n",
    "\n",
    "$$ f_{\\mathbf{w},b}(\\mathbf{x}) =  w_0x_0 + w_1x_1 +... + w_{n-1}x_{n-1} + b \\tag{1}$$\n",
    "or in vector notation:\n",
    "$$ f_{\\mathbf{w},b}(\\mathbf{x}) = \\mathbf{w} \\cdot \\mathbf{x} + b  \\tag{2} $$ \n",
    "where $\\cdot$ is a vector `dot product`\n",
    "\n",
    "To demonstrate the dot product, we will implement prediction using (1) and (2).\n",
    " \n"
   ]
  },
  {
   "cell_type": "markdown",
   "id": "77cf5266",
   "metadata": {},
   "source": [
    "### Vector Multiplication Method"
   ]
  },
  {
   "cell_type": "code",
   "execution_count": 11,
   "id": "72a88a64",
   "metadata": {},
   "outputs": [],
   "source": [
    "def pred_vector_method(x,w,b):\n",
    "    \"\"\"\n",
    "    x = single training example with multiple features of shape (n,)\n",
    "    w = model parameter with shape (n,)\n",
    "    b = scalar\n",
    "    f_wb = it will be a prediction for the training example given to us (x)\n",
    "    \n",
    "    \"\"\"\n",
    "    \n",
    "    f_wb = np.dot(w,x) + b\n",
    "    \n",
    "    return f_wb\n",
    "    \n"
   ]
  },
  {
   "cell_type": "code",
   "execution_count": 12,
   "id": "d135b6f3",
   "metadata": {},
   "outputs": [
    {
     "data": {
      "text/plain": [
       "2"
      ]
     },
     "execution_count": 12,
     "metadata": {},
     "output_type": "execute_result"
    }
   ],
   "source": [
    "pred_vector_method(x_train[24],w,b)"
   ]
  },
  {
   "cell_type": "markdown",
   "id": "7926aaa6",
   "metadata": {},
   "source": [
    "### Using 'for' loop"
   ]
  },
  {
   "cell_type": "code",
   "execution_count": 13,
   "id": "94a66b9c",
   "metadata": {},
   "outputs": [],
   "source": [
    "def pred_loop(x,w,b):\n",
    "    \n",
    "    \"\"\"\n",
    "    x = single training example with multiple features of shape (n,)\n",
    "    w = model parameter with shape (n,)\n",
    "    b = scalar\n",
    "    f_wb = it will be a prediction for the training example given to us (x)\n",
    "    \n",
    "    \"\"\"\n",
    "    n = x.shape[0]\n",
    "    f_wb = 0 \n",
    "    \n",
    "    for i in range (n):\n",
    "        f_wb += w[i]*x[i]\n",
    "        \n",
    "    f_wb = f_wb + b \n",
    "    \n",
    "    return f_wb\n",
    "\n",
    "    "
   ]
  },
  {
   "cell_type": "code",
   "execution_count": 14,
   "id": "ce4de3d5",
   "metadata": {},
   "outputs": [
    {
     "data": {
      "text/plain": [
       "2"
      ]
     },
     "execution_count": 14,
     "metadata": {},
     "output_type": "execute_result"
    }
   ],
   "source": [
    "pred_loop (x_train[24],w,b)"
   ]
  },
  {
   "cell_type": "markdown",
   "id": "1de70512",
   "metadata": {},
   "source": [
    "## Computing the Cost Function\n",
    "\n",
    "The equation for the cost function with multiple variables $J(\\mathbf{w},b)$ is:\n",
    "$$J(\\mathbf{w},b) = \\frac{1}{2m} \\sum\\limits_{i = 0}^{m-1} (f_{\\mathbf{w},b}(\\mathbf{x}^{(i)}) - y^{(i)})^2 \\tag{3}$$ \n",
    "where:\n",
    "$$ f_{\\mathbf{w},b}(\\mathbf{x}^{(i)}) = \\mathbf{w} \\cdot \\mathbf{x}^{(i)} + b  \\tag{4} $$ \n",
    "\n",
    "\n",
    "In contrast to previous labs, $\\mathbf{w}$ and $\\mathbf{x}^{(i)}$ are vectors rather than scalars supporting multiple features."
   ]
  },
  {
   "cell_type": "code",
   "execution_count": 15,
   "id": "bfa08051",
   "metadata": {},
   "outputs": [],
   "source": [
    "def compute_cost(x,y,w,b):\n",
    "    \n",
    "    \"\"\"\n",
    "    x = m training examples with n features shape (m,n)\n",
    "    y = output values of shape (m,)\n",
    "    w = parameters array of shape (n,)\n",
    "    b = scalar\n",
    "    \n",
    "    \"\"\"\n",
    "    n = x.shape[1]\n",
    "    m = x.shape[0]\n",
    "    cost = 0\n",
    "    \n",
    "    for i in range (m):\n",
    "        f_wb = pred_vector_method(x[i],w,b)\n",
    "        cost += (f_wb - y[i])**2\n",
    "        \n",
    "    cost = cost/(2*m)\n",
    "    \n",
    "    return cost\n",
    "    "
   ]
  },
  {
   "cell_type": "code",
   "execution_count": 16,
   "id": "dcf2b591",
   "metadata": {},
   "outputs": [
    {
     "name": "stdout",
     "output_type": "stream",
     "text": [
      "cost at initial w and b values is 1609.768\n"
     ]
    }
   ],
   "source": [
    "a = compute_cost(x_train,y_train,w,b)\n",
    "print (f'cost at initial w and b values is{a: .3f}')"
   ]
  },
  {
   "cell_type": "markdown",
   "id": "f68eb27e",
   "metadata": {},
   "source": [
    "## Computing Gradient"
   ]
  },
  {
   "cell_type": "markdown",
   "id": "c5c0e8a2",
   "metadata": {},
   "source": [
    "The gradient descent algorithm is:\n",
    "\n",
    "$$\\begin{align*}& \\text{repeat until convergence:} \\; \\lbrace \\newline \\; & \\phantom {0000} b := b -  \\alpha \\frac{\\partial J(w,b)}{\\partial b} \\newline       \\; & \\phantom {0000} w := w -  \\alpha \\frac{\\partial J(w,b)}{\\partial w} \\tag{1}  \\; & \n",
    "\\newline & \\rbrace\\end{align*}$$\n",
    "\n",
    "where, parameters $w, b$ are both updated simultaniously and where  \n",
    "$$\n",
    "\\frac{\\partial J(w,b)}{\\partial b}  = \\frac{1}{m} \\sum\\limits_{i = 0}^{m-1} (f_{w,b}(x^{(i)}) - y^{(i)}) \\tag{2}\n",
    "$$\n",
    "$$\n",
    "\\frac{\\partial J(w,b)}{\\partial w}  = \\frac{1}{m} \\sum\\limits_{i = 0}^{m-1} (f_{w,b}(x^{(i)}) -y^{(i)})x^{(i)} \\tag{3}\n",
    "$$\n",
    "* m is the number of training examples in the dataset\n",
    "\n",
    "    \n",
    "*  $f_{w,b}(x^{(i)})$ is the model's prediction, while $y^{(i)}$, is the target value\n"
   ]
  },
  {
   "cell_type": "code",
   "execution_count": 17,
   "id": "d0166bf6",
   "metadata": {},
   "outputs": [],
   "source": [
    "def compute_gradient(x,y,w,b):\n",
    "    \n",
    "    \"\"\"\n",
    "    x = m training examples with n features shape (m,n)\n",
    "    y = output values of shape (m,)\n",
    "    w = parameters array of shape (n,)\n",
    "    b = scalar\n",
    "    \n",
    "    \"\"\"  \n",
    "   \n",
    "    m = x.shape[0]\n",
    "    n = x.shape[1]\n",
    "    \n",
    "    dj_dw = np.zeros((n,))\n",
    "    dj_db = 0\n",
    "    \n",
    "    \n",
    "    for i in range (m):\n",
    "        f_wb = np.dot(x[i],w)+b\n",
    "        for j in range(n):\n",
    "            dj_dw[j] += (f_wb-y[i])*x[i,j]\n",
    "        dj_db = (f_wb - y[i])\n",
    "        \n",
    "        \n",
    "    dj_db = dj_db/m\n",
    "    dj_dw = dj_dw/m\n",
    "    \n",
    "    return dj_dw, dj_db\n",
    "            \n",
    "    \n",
    "    "
   ]
  },
  {
   "cell_type": "code",
   "execution_count": 18,
   "id": "3e89aa14",
   "metadata": {},
   "outputs": [
    {
     "data": {
      "text/plain": [
       "(array([ -266.67016667, -3720.6555    ,  -349.32483333,  -244.87316667]),\n",
       " -0.007)"
      ]
     },
     "execution_count": 18,
     "metadata": {},
     "output_type": "execute_result"
    }
   ],
   "source": [
    "a = compute_gradient (x_train,y_train,w,b)\n",
    "a"
   ]
  },
  {
   "cell_type": "markdown",
   "id": "f5f616d3",
   "metadata": {},
   "source": [
    "## Gradient Descent"
   ]
  },
  {
   "cell_type": "code",
   "execution_count": 19,
   "id": "f33c49c2",
   "metadata": {},
   "outputs": [],
   "source": [
    "def gradient_descent (x,y,w,b,alpha,num_iters):\n",
    "    \n",
    "    \"\"\"\n",
    "    x = m training examples with n features shape (m,n)\n",
    "    y = output values of shape (m,)\n",
    "    w = parameters array of shape (n,)\n",
    "    b = scalar\n",
    "    alpha = learning rate\n",
    "    \n",
    "    \"\"\"  \n",
    "    \n",
    "    J_history = []\n",
    "    w = copy.deepcopy(w)  #avoid modifying global w within function\n",
    "    b = b\n",
    "    \n",
    "    \n",
    "    for i in range(num_iters):\n",
    "        \n",
    "        dj_dw, dj_db = compute_gradient(x,y,w,b)\n",
    "        w = w - alpha*(dj_dw)\n",
    "        b = b - alpha * dj_db \n",
    "        \n",
    "         # Save cost J at each iteration\n",
    "        if i<100000:     \n",
    "            J_history.append(compute_cost(x, y, w, b))\n",
    "\n",
    "        # Print cost every at intervals 10 times or as many iterations if < 10\n",
    "        if i% math.ceil(num_iters / 10) == 0:\n",
    "            print(f\"Iteration {i:4d}: Cost {J_history[-1]:8.2f}   \")\n",
    "        \n",
    "    return w, b, J_history\n",
    "        \n"
   ]
  },
  {
   "cell_type": "code",
   "execution_count": 48,
   "id": "675b0cec",
   "metadata": {},
   "outputs": [
    {
     "name": "stdout",
     "output_type": "stream",
     "text": [
      "Iteration    0: Cost   802.92   \n",
      "Iteration  200: Cost   247.39   \n",
      "Iteration  400: Cost   240.35   \n",
      "Iteration  600: Cost   235.04   \n",
      "Iteration  800: Cost   231.00   \n",
      "Iteration 1000: Cost   227.92   \n",
      "Iteration 1200: Cost   225.54   \n",
      "Iteration 1400: Cost   223.70   \n",
      "Iteration 1600: Cost   222.25   \n",
      "Iteration 1800: Cost   221.11   \n"
     ]
    }
   ],
   "source": [
    "w_final,b_final,cost_hist = gradient_descent(x_train,y_train,w,b,7.0e-5,2000)                \n",
    "                                             "
   ]
  },
  {
   "cell_type": "code",
   "execution_count": 49,
   "id": "68c2eb2b",
   "metadata": {},
   "outputs": [
    {
     "name": "stdout",
     "output_type": "stream",
     "text": [
      "Final values are w = [1.06081276 0.45210918 1.72562534 0.79973748] and b = 2.00\n"
     ]
    }
   ],
   "source": [
    "print(f'Final values are w = {w_final} and b = {b_final:.2f}' )\n"
   ]
  },
  {
   "cell_type": "code",
   "execution_count": 50,
   "id": "f74d0cf1",
   "metadata": {},
   "outputs": [],
   "source": [
    "# We will store all our predictions in one array \n",
    "def predictions (x,y,w,b):\n",
    "    \n",
    "    \n",
    "    \"\"\"\n",
    "    x = m training examples with n features shape (m,n)\n",
    "    y = output values of shape (m,)\n",
    "    w = parameters array of shape (n,)\n",
    "    b = scalar\n",
    "    \n",
    "    \"\"\"  \n",
    "    m,n = x.shape\n",
    "    predictions = np.zeros(m)\n",
    "    \n",
    "    for i in range (m):\n",
    "        predictions[i] = (np.dot(x[i],w) +b)\n",
    "    \n",
    "    return predictions\n",
    "    "
   ]
  },
  {
   "cell_type": "code",
   "execution_count": 51,
   "id": "6399e7b9",
   "metadata": {},
   "outputs": [],
   "source": [
    "predictions = predictions(x_train,y_train,w_final,b_final)"
   ]
  },
  {
   "cell_type": "code",
   "execution_count": 52,
   "id": "75fb148e",
   "metadata": {
    "scrolled": true
   },
   "outputs": [
    {
     "data": {
      "text/plain": [
       "Text(0, 0.5, 'Cost')"
      ]
     },
     "execution_count": 52,
     "metadata": {},
     "output_type": "execute_result"
    },
    {
     "data": {
      "image/png": "[encoded data removed]",
      "text/plain": [
       "<Figure size 400x300 with 1 Axes>"
      ]
     },
     "metadata": {},
     "output_type": "display_data"
    }
   ],
   "source": [
    "plt.figure(figsize=(4,3))\n",
    "plt.plot(cost_hist)\n",
    "plt.title('Cost VS Iteration')\n",
    "plt.xlabel('Iterations')\n",
    "plt.ylabel('Cost')"
   ]
  },
  {
   "cell_type": "code",
   "execution_count": 53,
   "id": "775d35dc",
   "metadata": {
    "scrolled": true
   },
   "outputs": [
    {
     "name": "stdout",
     "output_type": "stream",
     "text": [
      "predicted 64.24 for target value 36.0 \n",
      "predicted 42.96 for target value 35.0 \n",
      "predicted 58.72 for target value 54.0 \n",
      "predicted 45.39 for target value 75.0 \n",
      "predicted 40.81 for target value 47.0 \n",
      "predicted 67.97 for target value 92.0 \n"
     ]
    }
   ],
   "source": [
    "m = len(predictions)\n",
    "for i in range (m):\n",
    "    if i%1000==0:\n",
    "        print (f'predicted {predictions[i]:.2f} for target value {y[i]} ')"
   ]
  },
  {
   "cell_type": "code",
   "execution_count": 54,
   "id": "4fdcbc36",
   "metadata": {},
   "outputs": [
    {
     "name": "stdout",
     "output_type": "stream",
     "text": [
      "Benchmark is  368.51\n",
      "training_set cost = 220.20\n",
      "cv_set cost = 230.12\n",
      "test_set cost = 226.96\n"
     ]
    }
   ],
   "source": [
    "y_baseline = np.mean(y_train)\n",
    "\n",
    "# baseline mean squared error(MSE) is calculated which serves as benchmark\n",
    "baseline_mse = np.mean((y_train-y_baseline)**2)\n",
    "print (f'Benchmark is {baseline_mse: .2f}')\n",
    "print (f'training_set cost = {compute_cost(x_train,y_train,w_final,b_final):.2f}')\n",
    "print (f'cv_set cost = {compute_cost (x_cv,y_cv,w_final,b_final):.2f}')\n",
    "print (f'test_set cost = {compute_cost(x_test,y_test,w_final,b_final):.2f}')"
   ]
  },
  {
   "cell_type": "markdown",
   "id": "39e3ca24",
   "metadata": {},
   "source": [
    "## Conclusion\n",
    "\n",
    "In conclusion, the model demonstrates promising performance with training set cost, cross-validation set cost and test set cost all of which are significantly lower than the benchmark. This indicates that the model generalizes well across different subsets of the data and suggests effective learning and minimal overfitting or underfitting.\n"
   ]
  },
  {
   "cell_type": "code",
   "execution_count": null,
   "id": "b87df31c",
   "metadata": {},
   "outputs": [],
   "source": []
  }
 ],
 "metadata": {
  "kernelspec": {
   "display_name": "Python 3 (ipykernel)",
   "language": "python",
   "name": "python3"
  },
  "language_info": {
   "codemirror_mode": {
    "name": "ipython",
    "version": 3
   },
   "file_extension": ".py",
   "mimetype": "text/x-python",
   "name": "python",
   "nbconvert_exporter": "python",
   "pygments_lexer": "ipython3",
   "version": "3.11.5"
  }
 },
 "nbformat": 4,
 "nbformat_minor": 5
}
